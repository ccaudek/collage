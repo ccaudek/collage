{
 "cells": [
  {
   "cell_type": "code",
   "execution_count": 1,
   "metadata": {},
   "outputs": [],
   "source": [
    "# Questa parte dello script NON DEVE ESSERE MODIFICATA IN ALCUON MODO.\n",
    "# importiamo le librerie che servono per mnipolare immagini con Python\n",
    "from PIL import Image\n",
    "import os\n",
    "import random\n",
    "\n",
    "# Definiamo la funzione che permette di fare il collage delle immagini degli oggetti sul background. Questa funzione permette di \n",
    "# creare le immagini per l'esperimento sia con lo sfondo bianco sia con lo sfondo arancione. Le immagini di background devono entrembe essere \n",
    "# presenti nella cartella in cui è presente lo scrit e devono chiamarsi così: 'background_orange', 'background_white'.\n",
    "def create_collages_based_on_background(background_path, objects_folder, coordinates, output_folder, num_images=100):\n",
    "    # Determina il prefisso e la cartella di destinazione in base al nome dell'immagine di background\n",
    "    if 'background_orange' in background_path:\n",
    "        prefix = 'orange'\n",
    "        color = 'orange'\n",
    "    elif 'background_white' in background_path:\n",
    "        prefix = 'white'\n",
    "        color = 'white'\n",
    "    else:\n",
    "        raise ValueError(\"Il nome del background non è supportato.\")\n",
    "    \n",
    "    background = Image.open(background_path)\n",
    "\n",
    "    object_images = [img for img in os.listdir(objects_folder) if img.endswith('.png')]\n",
    "\n",
    "    if len(object_images) < 1:\n",
    "        raise ValueError(\"Deve esserci almeno un'immagine nell'objects_folder.\")\n",
    "\n",
    "    random.shuffle(object_images)\n",
    "\n",
    "    selected_images = object_images[:min(num_images, len(object_images))]\n",
    "\n",
    "    # Crea la cartella di output specifica se non esiste\n",
    "    specific_output_folder = os.path.join(output_folder, color)\n",
    "    if not os.path.exists(specific_output_folder):\n",
    "        os.makedirs(specific_output_folder)\n",
    "\n",
    "    log_file_path = os.path.join(specific_output_folder, 'collage_log.txt')\n",
    "    with open(log_file_path, 'w') as log_file:\n",
    "\n",
    "        for idx, img in enumerate(selected_images, 1):\n",
    "            with Image.open(os.path.join(objects_folder, img)) as obj:\n",
    "                temp_background = background.copy()\n",
    "\n",
    "                coordinate = random.choice(coordinates)\n",
    "\n",
    "                temp_background.paste(obj, coordinate, obj)\n",
    "\n",
    "                # Aggiusta il nome del file e la numerazione in base all'indice\n",
    "                name_prefix = f\"{prefix}_new_\" if idx > 50 else f\"{prefix}_old_\"\n",
    "                file_number = idx if idx <= 50 else idx - 50\n",
    "                collage_file_name = f'{name_prefix}{file_number}.png'\n",
    "                temp_background.save(os.path.join(specific_output_folder, collage_file_name))\n",
    "\n",
    "                log_file.write(f'{collage_file_name}: {img}\\n')\n",
    "\n",
    "# Coordinate tra cui scegliere casualmente\n",
    "random_coordinates = [(0, 220), (200, 220)]"
   ]
  },
  {
   "cell_type": "code",
   "execution_count": 3,
   "metadata": {},
   "outputs": [],
   "source": [
    "# In questa parte finale dello script è NECESSARIO modificare il nome dell'immagine di background. Se vogliamo creare le immagini \n",
    "# con lo sfondo bianco, metteremo background_path = 'background_white.png', altrimenti Se vogliamo creare le immagini con lo sfondo \n",
    "#arancione, metteremo background_path = 'background_orange.png'\n",
    "\n",
    "# Sostituisci 'background_path' con il percorso corretto all'immagine di background che vuoi usare\n",
    "background_path = 'background_orange.png'  # or 'background_white.png'\n",
    "objects_folder = 'objects_folder'  # Assicurati che questa cartella esista e contenga le immagini\n",
    "output_folder = 'output_folder'  # Cartella principale di output\n",
    "\n",
    "create_collages_based_on_background(background_path, objects_folder, random_coordinates, output_folder, num_images=100)"
   ]
  }
 ],
 "metadata": {
  "kernelspec": {
   "display_name": "mem_surp_24",
   "language": "python",
   "name": "python3"
  },
  "language_info": {
   "codemirror_mode": {
    "name": "ipython",
    "version": 3
   },
   "file_extension": ".py",
   "mimetype": "text/x-python",
   "name": "python",
   "nbconvert_exporter": "python",
   "pygments_lexer": "ipython3",
   "version": "3.11.8"
  }
 },
 "nbformat": 4,
 "nbformat_minor": 2
}
