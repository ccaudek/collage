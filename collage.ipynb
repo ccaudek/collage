{
 "cells": [
  {
   "cell_type": "markdown",
   "metadata": {},
   "source": [
    "# Version 2"
   ]
  },
  {
   "cell_type": "code",
   "execution_count": 1,
   "metadata": {},
   "outputs": [],
   "source": [
    "from PIL import Image\n",
    "import random\n",
    "import os"
   ]
  },
  {
   "cell_type": "code",
   "execution_count": 2,
   "metadata": {},
   "outputs": [],
   "source": [
    "background_path = \"background.jpg\""
   ]
  },
  {
   "cell_type": "code",
   "execution_count": 3,
   "metadata": {},
   "outputs": [],
   "source": [
    "def create_collages(background_path, objects_folder, coordinates, output_folder, num_images=6):\n",
    "    # Carica l'immagine di background\n",
    "    background = Image.open(background_path)\n",
    "\n",
    "    # Elenco di tutte le immagini degli oggetti\n",
    "    object_images = [img for img in os.listdir(objects_folder) if img.endswith('.jpg')]\n",
    "\n",
    "    # Verifica il numero di immagini\n",
    "    if not 2 <= len(object_images) <= 6:\n",
    "        raise ValueError(\"Il numero di immagini degli oggetti deve essere tra 2 e 6.\")\n",
    "\n",
    "    # Crea tutte le possibili coppie uniche senza ripetizioni (indipendenti dall'ordine)\n",
    "    all_combinations = [(i, j) for i in object_images for j in object_images if i < j]\n",
    "    random.shuffle(all_combinations)\n",
    "\n",
    "    # Seleziona un sottoinsieme di coppie\n",
    "    selected_combinations = all_combinations[:num_images]\n",
    "\n",
    "    # File di log per registrare le coppie utilizzate\n",
    "    log_file_path = os.path.join(output_folder, 'collage_log.txt')\n",
    "    with open(log_file_path, 'w') as log_file:\n",
    "\n",
    "        # Crea le immagini collage\n",
    "        for idx, (img1, img2) in enumerate(selected_combinations, 1):\n",
    "            with Image.open(os.path.join(objects_folder, img1)) as obj1, Image.open(os.path.join(objects_folder, img2)) as obj2:\n",
    "                # Crea una copia del background per ogni collage\n",
    "                temp_background = background.copy()\n",
    "\n",
    "                # Posiziona le immagini degli oggetti sul background\n",
    "                temp_background.paste(obj1, coordinates[0])\n",
    "                temp_background.paste(obj2, coordinates[1])\n",
    "\n",
    "                # Nome del file collage\n",
    "                collage_file_name = f'img_{idx:03}.jpg'\n",
    "                temp_background.save(os.path.join(output_folder, collage_file_name))\n",
    "\n",
    "                # Registra nel file di log\n",
    "                log_file.write(f'{collage_file_name}: {img1}, {img2}\\n')\n",
    "\n"
   ]
  },
  {
   "cell_type": "code",
   "execution_count": null,
   "metadata": {},
   "outputs": [],
   "source": [
    "# Esempio di come chiamare la funzione\n",
    "create_collages('background.jpg', 'objects_folder', [(0, 220), (200, 220)], 'output_folder')"
   ]
  }
 ],
 "metadata": {
  "kernelspec": {
   "display_name": "collage_env",
   "language": "python",
   "name": "python3"
  },
  "language_info": {
   "codemirror_mode": {
    "name": "ipython",
    "version": 3
   },
   "file_extension": ".py",
   "mimetype": "text/x-python",
   "name": "python",
   "nbconvert_exporter": "python",
   "pygments_lexer": "ipython3",
   "version": "3.12.2"
  }
 },
 "nbformat": 4,
 "nbformat_minor": 2
}
