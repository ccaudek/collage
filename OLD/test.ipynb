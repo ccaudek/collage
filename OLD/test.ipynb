{
 "cells": [
  {
   "cell_type": "code",
   "execution_count": 32,
   "metadata": {},
   "outputs": [],
   "source": [
    "from PIL import Image\n",
    "import random\n",
    "import os"
   ]
  },
  {
   "cell_type": "code",
   "execution_count": 10,
   "metadata": {},
   "outputs": [],
   "source": [
    "background = Image.open(\"background.jpg\")\n",
    "obj1 = Image.open(\"img/img_1.jpg\")\n",
    "obj2 = Image.open(\"img/img_2.jpg\")"
   ]
  },
  {
   "cell_type": "code",
   "execution_count": 5,
   "metadata": {},
   "outputs": [
    {
     "name": "stdout",
     "output_type": "stream",
     "text": [
      "['img_1.jpg', 'img_2.jpg', 'img_3.jpg', 'img_6.jpg', 'img_4.jpg', 'img_5.jpg']\n"
     ]
    }
   ],
   "source": [
    "# Elenco di tutte le immagini degli oggetti\n",
    "object_images = [img for img in os.listdir(\"img\") if img.endswith('.jpg')]\n",
    "print(object_images)\n"
   ]
  },
  {
   "cell_type": "code",
   "execution_count": 8,
   "metadata": {},
   "outputs": [
    {
     "name": "stdout",
     "output_type": "stream",
     "text": [
      "[('img_1.jpg', 'img_6.jpg'), ('img_1.jpg', 'img_3.jpg'), ('img_1.jpg', 'img_5.jpg'), ('img_3.jpg', 'img_4.jpg'), ('img_6.jpg', 'img_2.jpg'), ('img_4.jpg', 'img_5.jpg'), ('img_3.jpg', 'img_6.jpg'), ('img_6.jpg', 'img_4.jpg')]\n"
     ]
    }
   ],
   "source": [
    "# Genera 8 combinazioni uniche di coppie di immagini\n",
    "num_images = 8\n",
    "all_combinations = random.sample([(i, j) for i in object_images for j in object_images if i != j], num_images)\n",
    "print(all_combinations)"
   ]
  },
  {
   "cell_type": "code",
   "execution_count": 14,
   "metadata": {},
   "outputs": [],
   "source": []
  },
  {
   "cell_type": "code",
   "execution_count": 16,
   "metadata": {},
   "outputs": [],
   "source": [
    "obj1.show()"
   ]
  },
  {
   "cell_type": "code",
   "execution_count": 31,
   "metadata": {},
   "outputs": [],
   "source": [
    "temp_background = background.copy()\n",
    "temp_background.paste(obj1, [0, 220])\n",
    "temp_background.paste(obj2, [200, 220])\n",
    "temp_background.show()"
   ]
  },
  {
   "cell_type": "code",
   "execution_count": null,
   "metadata": {},
   "outputs": [],
   "source": [
    "# Posiziona le immagini degli oggetti sul background\n",
    "temp_background.paste(obj2, [100, 0], obj2)"
   ]
  },
  {
   "cell_type": "code",
   "execution_count": 1,
   "metadata": {},
   "outputs": [
    {
     "ename": "ModuleNotFoundError",
     "evalue": "No module named 'PIL'",
     "output_type": "error",
     "traceback": [
      "\u001b[0;31m---------------------------------------------------------------------------\u001b[0m",
      "\u001b[0;31mModuleNotFoundError\u001b[0m                       Traceback (most recent call last)",
      "Cell \u001b[0;32mIn[1], line 1\u001b[0m\n\u001b[0;32m----> 1\u001b[0m \u001b[38;5;28;01mfrom\u001b[39;00m \u001b[38;5;21;01mPIL\u001b[39;00m \u001b[38;5;28;01mimport\u001b[39;00m Image\n\u001b[1;32m      2\u001b[0m \u001b[38;5;28;01mimport\u001b[39;00m \u001b[38;5;21;01mrandom\u001b[39;00m\n\u001b[1;32m      3\u001b[0m \u001b[38;5;28;01mimport\u001b[39;00m \u001b[38;5;21;01mos\u001b[39;00m\n",
      "\u001b[0;31mModuleNotFoundError\u001b[0m: No module named 'PIL'"
     ]
    }
   ],
   "source": [
    "from PIL import Image\n",
    "import random\n",
    "import os\n",
    "\n",
    "background_path = \"background.jpg\""
   ]
  },
  {
   "cell_type": "code",
   "execution_count": 36,
   "metadata": {},
   "outputs": [],
   "source": [
    "def create_collages(background_path, objects_folder, coordinates, output_folder, num_images=6):\n",
    "    # Carica l'immagine di background\n",
    "    background = Image.open(background_path)\n",
    "\n",
    "    # Elenco di tutte le immagini degli oggetti\n",
    "    object_images = [img for img in os.listdir(objects_folder) if img.endswith('.jpg')]\n",
    "\n",
    "    # Assicurati che ci siano almeno 2 immagini e non più di 120\n",
    "    if not 2 <= len(object_images) <= 6:\n",
    "        raise ValueError(\"Il numero di immagini degli oggetti deve essere tra 2 e 6.\")\n",
    "\n",
    "    # Genera 100 combinazioni uniche di coppie di immagini\n",
    "    all_combinations = random.sample([(i, j) for i in object_images for j in object_images if i != j], num_images)\n",
    "\n",
    "    # Crea le immagini collage\n",
    "    for idx, (img1, img2) in enumerate(all_combinations, 1):\n",
    "        with Image.open(os.path.join(objects_folder, img1)) as obj1, Image.open(os.path.join(objects_folder, img2)) as obj2:\n",
    "            # Crea una copia del background per ogni collage\n",
    "            temp_background = background.copy()\n",
    "\n",
    "            # Posiziona le immagini degli oggetti sul background\n",
    "            temp_background.paste(obj1, coordinates[0])\n",
    "            temp_background.paste(obj2, coordinates[1])\n",
    "\n",
    "            # Salva il collage\n",
    "            temp_background.save(os.path.join(output_folder, f'img_{idx:03}.jpg'))"
   ]
  },
  {
   "cell_type": "code",
   "execution_count": 37,
   "metadata": {},
   "outputs": [],
   "source": [
    "# Esempio di come chiamare la funzione\n",
    "create_collages('background.jpg', 'objects_folder', [(0, 220), (200, 220)], 'output_folder')"
   ]
  },
  {
   "cell_type": "markdown",
   "metadata": {},
   "source": [
    "# Version 2"
   ]
  },
  {
   "cell_type": "code",
   "execution_count": 1,
   "metadata": {},
   "outputs": [],
   "source": [
    "from PIL import Image\n",
    "import random\n",
    "import os"
   ]
  },
  {
   "cell_type": "code",
   "execution_count": 2,
   "metadata": {},
   "outputs": [],
   "source": [
    "background_path = \"background.jpg\""
   ]
  },
  {
   "cell_type": "code",
   "execution_count": 3,
   "metadata": {},
   "outputs": [],
   "source": [
    "def create_collages(background_path, objects_folder, coordinates, output_folder, num_images=6):\n",
    "    # Carica l'immagine di background\n",
    "    background = Image.open(background_path)\n",
    "\n",
    "    # Elenco di tutte le immagini degli oggetti\n",
    "    object_images = [img for img in os.listdir(objects_folder) if img.endswith('.jpg')]\n",
    "\n",
    "    # Verifica il numero di immagini\n",
    "    if not 2 <= len(object_images) <= 6:\n",
    "        raise ValueError(\"Il numero di immagini degli oggetti deve essere tra 2 e 6.\")\n",
    "\n",
    "    # Crea tutte le possibili coppie uniche senza ripetizioni (indipendenti dall'ordine)\n",
    "    all_combinations = [(i, j) for i in object_images for j in object_images if i < j]\n",
    "    random.shuffle(all_combinations)\n",
    "\n",
    "    # Seleziona un sottoinsieme di coppie\n",
    "    selected_combinations = all_combinations[:num_images]\n",
    "\n",
    "    # File di log per registrare le coppie utilizzate\n",
    "    log_file_path = os.path.join(output_folder, 'collage_log.txt')\n",
    "    with open(log_file_path, 'w') as log_file:\n",
    "\n",
    "        # Crea le immagini collage\n",
    "        for idx, (img1, img2) in enumerate(selected_combinations, 1):\n",
    "            with Image.open(os.path.join(objects_folder, img1)) as obj1, Image.open(os.path.join(objects_folder, img2)) as obj2:\n",
    "                # Crea una copia del background per ogni collage\n",
    "                temp_background = background.copy()\n",
    "\n",
    "                # Posiziona le immagini degli oggetti sul background\n",
    "                temp_background.paste(obj1, coordinates[0])\n",
    "                temp_background.paste(obj2, coordinates[1])\n",
    "\n",
    "                # Nome del file collage\n",
    "                collage_file_name = f'img_{idx:03}.jpg'\n",
    "                temp_background.save(os.path.join(output_folder, collage_file_name))\n",
    "\n",
    "                # Registra nel file di log\n",
    "                log_file.write(f'{collage_file_name}: {img1}, {img2}\\n')\n",
    "\n"
   ]
  },
  {
   "cell_type": "code",
   "execution_count": null,
   "metadata": {},
   "outputs": [],
   "source": [
    "# Esempio di come chiamare la funzione\n",
    "create_collages('background.jpg', 'objects_folder', [(0, 220), (200, 220)], 'output_folder')"
   ]
  }
 ],
 "metadata": {
  "kernelspec": {
   "display_name": "collage_env",
   "language": "python",
   "name": "python3"
  },
  "language_info": {
   "codemirror_mode": {
    "name": "ipython",
    "version": 3
   },
   "file_extension": ".py",
   "mimetype": "text/x-python",
   "name": "python",
   "nbconvert_exporter": "python",
   "pygments_lexer": "ipython3",
   "version": "3.12.2"
  }
 },
 "nbformat": 4,
 "nbformat_minor": 2
}
